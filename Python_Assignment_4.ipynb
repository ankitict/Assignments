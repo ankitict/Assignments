{
 "cells": [
  {
   "cell_type": "markdown",
   "metadata": {},
   "source": [
    "1.1 Write a Python Program(with class concepts) to find the area of the triangle using the below\n",
    "formula.<br>\n",
    "area = (s*(s-a)*(s-b)*(s-c)) ** 0.5<br>\n",
    "Function to take the length of the sides of triangle from user should be defined in the parent\n",
    "class and function to calculate the area should be defined in subclass."
   ]
  },
  {
   "cell_type": "code",
   "execution_count": 2,
   "metadata": {},
   "outputs": [
    {
     "name": "stdout",
     "output_type": "stream",
     "text": [
      "Enter Length of Side A : 5\n",
      "Enter Length of Side B : 6\n",
      "Enter Length of Side C : 7\n",
      "Area of Triangle is :  14.696938456699069\n"
     ]
    }
   ],
   "source": [
    "class Area:\n",
    "    def __init__(self):\n",
    "        self.a = float(input('Enter Length of Side A : '))\n",
    "        self.b = float(input('Enter Length of Side B : '))\n",
    "        self.c = float(input('Enter Length of Side C : '))\n",
    "class Triangle(Area):\n",
    "    def __init__(self, *args):\n",
    "        super().__init__(*args)\n",
    "    \n",
    "    def area_of_triangle(self):\n",
    "        s = (self.a + self.b + self.c) / 2\n",
    "        area = (s*(s-self.a)*(s-self.b)*(s-self.c)) ** 0.5\n",
    "        return area\n",
    "\n",
    "obj_area = Triangle()\n",
    "print('Area of Triangle is : ', obj_area.area_of_triangle())"
   ]
  },
  {
   "cell_type": "code",
   "execution_count": null,
   "metadata": {},
   "outputs": [],
   "source": []
  },
  {
   "cell_type": "markdown",
   "metadata": {},
   "source": [
    "1.2 Write a function filter_long_words() that takes a list of words and an integer n and returns\n",
    "the list of words that are longer than n."
   ]
  },
  {
   "cell_type": "code",
   "execution_count": 4,
   "metadata": {},
   "outputs": [
    {
     "name": "stdout",
     "output_type": "stream",
     "text": [
      "Enter words : Hi i am new at ineuron\n",
      "Enter length : 2\n",
      "Output :  ['new', 'ineuron']\n"
     ]
    }
   ],
   "source": [
    "def filter_long_words():\n",
    "    words_list = input('Enter words : ')\n",
    "    length = int(input('Enter length : '))\n",
    "    words = words_list.split()\n",
    "    lst = []\n",
    "    for i in words:\n",
    "        if len(i) > length:\n",
    "            lst.append(i)\n",
    "    print('Output : ', lst)\n",
    "filter_long_words()"
   ]
  },
  {
   "cell_type": "code",
   "execution_count": null,
   "metadata": {},
   "outputs": [],
   "source": []
  },
  {
   "cell_type": "markdown",
   "metadata": {},
   "source": [
    "2.1 Write a Python program using function concept that maps list of words into a list of integers\n",
    "representing the lengths of the corresponding words.<br><br>\n",
    "Hint: If a list [ ab,cde,erty] is passed on to the python function output should come as [2,3,4]\n",
    "Here 2,3 and 4 are the lengths of the words in the list."
   ]
  },
  {
   "cell_type": "code",
   "execution_count": 5,
   "metadata": {},
   "outputs": [
    {
     "name": "stdout",
     "output_type": "stream",
     "text": [
      "Enter words : Hi i am new at ineuron\n",
      "Output :  [2, 1, 2, 3, 2, 7]\n"
     ]
    }
   ],
   "source": [
    "def find_length_of_words():\n",
    "    words_list = input('Enter words : ')\n",
    "    words = words_list.split()\n",
    "    lst = []\n",
    "    for i in words:\n",
    "        lst.append(len(i))\n",
    "    print('Output : ', lst)\n",
    "find_length_of_words()"
   ]
  },
  {
   "cell_type": "code",
   "execution_count": null,
   "metadata": {},
   "outputs": [],
   "source": []
  },
  {
   "cell_type": "markdown",
   "metadata": {},
   "source": [
    "2.2 Write a Python function which takes a character (i.e. a string of length 1) and returns True if\n",
    "it is a vowel, False otherwise."
   ]
  },
  {
   "cell_type": "code",
   "execution_count": 7,
   "metadata": {},
   "outputs": [
    {
     "name": "stdout",
     "output_type": "stream",
     "text": [
      "Enter character : A\n"
     ]
    },
    {
     "data": {
      "text/plain": [
       "True"
      ]
     },
     "execution_count": 7,
     "metadata": {},
     "output_type": "execute_result"
    }
   ],
   "source": [
    "def vowels_or_not():\n",
    "    vowels = ['a','e','i','o','u','A','E','I','O','U']\n",
    "    a=input('Enter character : ')[0]\n",
    "    if a in vowels:\n",
    "        return True\n",
    "    else:\n",
    "        return False\n",
    "vowels_or_not()"
   ]
  },
  {
   "cell_type": "code",
   "execution_count": null,
   "metadata": {},
   "outputs": [],
   "source": []
  }
 ],
 "metadata": {
  "kernelspec": {
   "display_name": "Python 3",
   "language": "python",
   "name": "python3"
  },
  "language_info": {
   "codemirror_mode": {
    "name": "ipython",
    "version": 3
   },
   "file_extension": ".py",
   "mimetype": "text/x-python",
   "name": "python",
   "nbconvert_exporter": "python",
   "pygments_lexer": "ipython3",
   "version": "3.8.3"
  }
 },
 "nbformat": 4,
 "nbformat_minor": 4
}
